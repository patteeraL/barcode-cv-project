{
  "nbformat": 4,
  "nbformat_minor": 0,
  "metadata": {
    "colab": {
      "provenance": []
    },
    "kernelspec": {
      "name": "python3",
      "display_name": "Python 3"
    },
    "language_info": {
      "name": "python"
    }
  },
  "cells": [
    {
      "cell_type": "code",
      "source": [
        "import cv2\n",
        "import numpy as np"
      ],
      "metadata": {
        "id": "JE3wRiRjs-6C"
      },
      "execution_count": null,
      "outputs": []
    },
    {
      "cell_type": "code",
      "source": [
        "WIDTH = 400\n",
        "HEIGHT = 800\n",
        "\n",
        "canvas = np.ones((WIDTH, HEIGHT, 3), dtype=np.uint8) * 255"
      ],
      "metadata": {
        "id": "gc_wT7DGSXoB"
      },
      "execution_count": null,
      "outputs": []
    },
    {
      "cell_type": "code",
      "source": [
        "STEP = 9\n",
        "NORMAL_TOP = 10\n",
        "NORMAL_BOTTOM = 350\n",
        "SHORT_TOP = 150\n",
        "SHORT_BOTTOM = 250"
      ],
      "metadata": {
        "id": "9Cywn3dpSzbF"
      },
      "execution_count": null,
      "outputs": []
    },
    {
      "cell_type": "code",
      "source": [
        "LOWER_CASE = 'abcdefghijklmnopqrstuvwxyz'\n",
        "UPPER_CASE = 'ABCDEFGHIJKLMNOPQRSTUVWXYZ'"
      ],
      "metadata": {
        "id": "m9Ucb4Aj7Zjj"
      },
      "execution_count": null,
      "outputs": []
    },
    {
      "cell_type": "code",
      "source": [
        "# Set the bar width to the char\n",
        "def set_bar_width(char):\n",
        "  if char == ' ':\n",
        "    return 0\n",
        "  elif 'a' <= char <= 'z':\n",
        "    return LOWER_CASE.index(char) + 1\n",
        "  elif 'A' <= char <= 'Z':\n",
        "    return UPPER_CASE.index(char) + 1\n",
        "  else: return 0"
      ],
      "metadata": {
        "id": "X-Cp3M3t-zoy"
      },
      "execution_count": null,
      "outputs": []
    },
    {
      "cell_type": "code",
      "source": [
        "def encode(text):\n",
        "  bar_position = 10 # Let the height of the bar be fixed from row 10\n",
        "  bar_width = 0\n",
        "\n",
        "  # loop through the entered string character by character\n",
        "  for char in text:\n",
        "    bar_width = set_bar_width(char)\n",
        "\n",
        "    if char == ' ':\n",
        "      # Draw a short bar for empty space\n",
        "      cv2.rectangle(canvas, (bar_position, SHORT_TOP), (bar_position + bar_width, SHORT_BOTTOM), (0, 0, 0), -1)\n",
        "    else:\n",
        "      # Draw a bar for the character\n",
        "      cv2.rectangle(canvas, (bar_position, NORMAL_TOP), (bar_position + bar_width, NORMAL_BOTTOM), (0, 0, 0), -1)\n",
        "\n",
        "    bar_position += bar_width + STEP\n",
        "\n",
        "    if bar_position > WIDTH: # If exceed the canvas ,then break\n",
        "      break\n",
        "\n",
        "  cv2.imwrite(\"output.png\", canvas) # Write the output file\n",
        "  print(\"Converted text to Barcode successfully\")"
      ],
      "metadata": {
        "id": "ZRM9Jozq6QJE"
      },
      "execution_count": null,
      "outputs": []
    },
    {
      "cell_type": "code",
      "execution_count": null,
      "metadata": {
        "colab": {
          "base_uri": "https://localhost:8080/"
        },
        "id": "c5LvjLZPRu2i",
        "outputId": "070afbf0-b080-4772-8933-4156f3c4d5a1"
      },
      "outputs": [
        {
          "output_type": "stream",
          "name": "stdout",
          "text": [
            "Converted text to Barcode successfully\n"
          ]
        }
      ],
      "source": [
        "encode(\"Patteera Lerdtada\")"
      ]
    },
    {
      "cell_type": "code",
      "source": [
        "def decode(filename):\n",
        "\n",
        "    image = cv2.imread(filename) # Read the file\n",
        "    gray = cv2.cvtColor(image, cv2.COLOR_BGR2GRAY) # Convert to GrayScale\n",
        "    middle_row = gray[200, :] # Consider the middle line\n",
        "\n",
        "    Str = \"\"\n",
        "\n",
        "    bar_width = 0\n",
        "    inside_bar = False\n",
        "\n",
        "    for x in range(middle_row.shape[0]):\n",
        "        pixel = middle_row[x]\n",
        "\n",
        "        if pixel == 0: # Black pixel\n",
        "            if not inside_bar:\n",
        "                inside_bar = True\n",
        "                bar_width = 1\n",
        "            else:\n",
        "                bar_width += 1  # Counting width of the bar\n",
        "        else:  # White pixel\n",
        "            if inside_bar:  # End of a bar\n",
        "                inside_bar = False\n",
        "                # Decode the bar width\n",
        "                if bar_width == 1:\n",
        "                    Str += \" \"  # Empty space\n",
        "                elif bar_width - 2 < len(UPPER_CASE):\n",
        "                    # Decode to uppercase letters (result ignore case)\n",
        "                    Str += UPPER_CASE[bar_width - 2]\n",
        "            bar_width = 0 # Reset\n",
        "\n",
        "    return Str"
      ],
      "metadata": {
        "id": "FGFZrfBaEBLx"
      },
      "execution_count": 8,
      "outputs": []
    },
    {
      "cell_type": "code",
      "source": [
        "decode('output.png')"
      ],
      "metadata": {
        "colab": {
          "base_uri": "https://localhost:8080/",
          "height": 35
        },
        "id": "vWcsHfi3qGpE",
        "outputId": "d2f89c80-3af3-44f8-fb14-1b8a1867feeb"
      },
      "execution_count": 9,
      "outputs": [
        {
          "output_type": "execute_result",
          "data": {
            "text/plain": [
              "'PATTEERA LERDTADA'"
            ],
            "application/vnd.google.colaboratory.intrinsic+json": {
              "type": "string"
            }
          },
          "metadata": {},
          "execution_count": 9
        }
      ]
    }
  ]
}